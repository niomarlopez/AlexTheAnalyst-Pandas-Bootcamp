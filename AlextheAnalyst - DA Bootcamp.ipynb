{
 "cells": [
  {
   "cell_type": "markdown",
   "id": "61d4335a-af2f-4fb2-bc34-8d7f347904c2",
   "metadata": {},
   "source": [
    "# Data Analyst Bootcamp\n",
    "## Alex the Analyst - Python Series\n",
    "\n",
    "### Quik Links**\n",
    "**Pandas Wiki: [Documentation/User Guide](https://pandas.pydata.org/docs/user_guide/index.html)**\n",
    "\n",
    "YouTube Course: [Link to Course Playlist](https://www.youtube.com/playlist?list=PLUaB-1hjhk8GZOuylZqLz-Qt9RIdZZMBE)"
   ]
  },
  {
   "cell_type": "code",
   "execution_count": null,
   "id": "2214eb2a-c15e-44e4-9043-65fde8583e83",
   "metadata": {
    "tags": []
   },
   "outputs": [],
   "source": [
    "import pandas as pd"
   ]
  },
  {
   "cell_type": "markdown",
   "id": "d6533b47-70be-4484-a22c-065d1b35b19a",
   "metadata": {},
   "source": [
    "# Reading Files in Pandas\n",
    "\n",
    "- reading in csv files\n",
    "- looking at data\n",
    "\n",
    "**Links to file downloads:**\n",
    "- [csv file](https://github.com/AlexTheAnalyst/PandasYouTubeSeries/blob/main/countries%20of%20the%20world.csv)\n",
    "- [excel file](https://github.com/AlexTheAnalyst/PandasYouTubeSeries/blob/main/world_population_excel_workbook.xlsx)"
   ]
  },
  {
   "cell_type": "markdown",
   "id": "e3433424-3d3d-4024-b9ea-521f0bd287c9",
   "metadata": {},
   "source": [
    "**When reading in csv files, make sure to include the path of file within the title input.**"
   ]
  },
  {
   "cell_type": "markdown",
   "id": "9d1120c5-db8b-46e7-9c08-c6be09ffe1c5",
   "metadata": {},
   "source": [
    "## **CSV Files**"
   ]
  },
  {
   "cell_type": "code",
   "execution_count": null,
   "id": "d8618b9e-992f-45db-bf24-93ee87544682",
   "metadata": {
    "tags": []
   },
   "outputs": [],
   "source": [
    "# Reading in a csv file & assinging it to a variable\n",
    "countries = pd.read_csv('data/countries of the world.csv')\n",
    "\n",
    "#calling the dataframe\n",
    "countries"
   ]
  },
  {
   "cell_type": "markdown",
   "id": "f85a90da-f1f4-4fa2-bc68-e4282717ad9b",
   "metadata": {},
   "source": [
    "## Excel Files"
   ]
  },
  {
   "cell_type": "markdown",
   "id": "fca748dd-5c1c-4f02-b20c-67e22fd23274",
   "metadata": {
    "tags": []
   },
   "source": [
    "**By default, pandas will only read the first sheet of the file.**"
   ]
  },
  {
   "cell_type": "code",
   "execution_count": null,
   "id": "cbc4c0fa-00e2-4bc8-9cb5-5bcc72151a9f",
   "metadata": {
    "tags": []
   },
   "outputs": [],
   "source": [
    "# Reading in an excel file\n",
    "population = pd.read_excel('data/world_population_excel_workbook.xlsx')\n",
    "\n",
    "#calling the dataframe\n",
    "population"
   ]
  },
  {
   "cell_type": "markdown",
   "id": "294b1b1f-abc4-40da-abb8-2cfbb0b453bd",
   "metadata": {},
   "source": [
    "**However, you *can* specify which sheet(s) you'd like to read**"
   ]
  },
  {
   "cell_type": "markdown",
   "id": "f1ca3b81-1e2b-4967-9b29-9e70397e09f1",
   "metadata": {},
   "source": [
    "### **When Specifying Sheets**\n",
    "- The arguments `sheet_name` allows specifying the sheet or sheets to read.\n",
    "- The default value for `sheet_name` is 0, indicating to read the first sheet\n",
    "- Pass a string to refer to the name of a particular sheet in the workbook.\n",
    "- Pass an integer to refer to the index of a sheet. Indices follow Python convention, beginning at 0.\n",
    "- Pass a list of either strings or integers, to return a dictionary of specified sheets.\n",
    "- Pass a `None` to return a dictionary of all available sheets.\n",
    "\n",
    "[source: wiki](https://pandas.pydata.org/docs/user_guide/io.html#specifying-sheets)"
   ]
  },
  {
   "cell_type": "code",
   "execution_count": null,
   "id": "915ac8b4-5630-48af-8099-58b23bc163d8",
   "metadata": {
    "tags": []
   },
   "outputs": [],
   "source": [
    "# Reading in 'sheet1' of the excel file (in this file, 'sheet1' is the second sheet within the workbooks)\n",
    "other_pop_sheet = pd.read_excel('data/world_population_excel_workbook.xlsx', sheet_name = 'Sheet1')\n",
    "\n",
    "#calling the dataframe\n",
    "other_pop_sheet"
   ]
  },
  {
   "cell_type": "markdown",
   "id": "995b37b2-b611-49f1-91cc-2ec0a6cc0d49",
   "metadata": {
    "tags": []
   },
   "source": [
    "### **By default, whenever you call a dataframe, you're gonna receive the first and last 5 rows of data.**\n",
    "Use the `.head(n)` and `.tail(n)` methods to display n-amount of rows respectively. "
   ]
  },
  {
   "cell_type": "markdown",
   "id": "a79a137f-8851-4bea-b142-38b1fe8ac17d",
   "metadata": {},
   "source": [
    "**Using `df.head()`**"
   ]
  },
  {
   "cell_type": "code",
   "execution_count": null,
   "id": "6f2d3e61-98e4-40ae-b127-1bdce9e74ea0",
   "metadata": {
    "tags": []
   },
   "outputs": [],
   "source": [
    "# returning the top 2 rows\n",
    "other_pop_sheet.head(2)"
   ]
  },
  {
   "cell_type": "markdown",
   "id": "c1cb9e5c-3165-441a-bd5e-efb34701fffd",
   "metadata": {},
   "source": [
    "**Using `df.tail()`**"
   ]
  },
  {
   "cell_type": "code",
   "execution_count": null,
   "id": "17e4957b-f116-4343-aceb-dd6bda2c7948",
   "metadata": {
    "tags": []
   },
   "outputs": [],
   "source": [
    "# returning the bottom 2 rows\n",
    "other_pop_sheet.tail(2)"
   ]
  },
  {
   "cell_type": "markdown",
   "id": "8a976c3f-444a-4466-915f-777cae95f876",
   "metadata": {
    "tags": []
   },
   "source": [
    "### **By using `.info` We can get information regarding our dataframe's number of entries, column names, dtypes, and non-null counts**"
   ]
  },
  {
   "cell_type": "markdown",
   "id": "1fbd20dd-067f-451b-9f2a-8de0ac55dfb5",
   "metadata": {},
   "source": [
    "**Using `df.info`**"
   ]
  },
  {
   "cell_type": "code",
   "execution_count": null,
   "id": "bccf43af-b405-4d7b-9acf-0f9657befffd",
   "metadata": {
    "tags": []
   },
   "outputs": [],
   "source": [
    "# Returning the database's info\n",
    "other_pop_sheet.info()"
   ]
  },
  {
   "cell_type": "markdown",
   "id": "0dca8da7-9e86-4c40-a9de-2e9480f79588",
   "metadata": {
    "tags": []
   },
   "source": [
    "### **By using `.describe` We can get a basic summary of our dataframe.**\n",
    "\n",
    "**NOTE: This is only valuable when used on numerical values, not objects.**"
   ]
  },
  {
   "cell_type": "code",
   "execution_count": null,
   "id": "e2b4ee09-b705-463e-9254-d49f6a3c961e",
   "metadata": {
    "tags": []
   },
   "outputs": [],
   "source": [
    "# Getting a basic summary of the 'Rank' column since it's the only numeric column\n",
    "other_pop_sheet.describe()"
   ]
  },
  {
   "cell_type": "markdown",
   "id": "300dc16a-807c-41a0-9f82-1a1a7e798fb7",
   "metadata": {
    "tags": []
   },
   "source": [
    "### Calling a column from a dataframe"
   ]
  },
  {
   "cell_type": "markdown",
   "id": "1111c61d-6f8b-4a91-a3f4-ed718cd0eb55",
   "metadata": {},
   "source": [
    "There are many ways to call a column from a dataframe. For example, you can use the dot notation or the bracket notation. However, it is thought that the best way to call a column in by using the bracket notation since it's more flexible.\n",
    "\n",
    "The syntax for the dot notations is:\n",
    "`df.Column_Name`\n",
    "\n",
    "The syntax for the bracket notation is:\n",
    "`df.[\"Column_Name\"]`"
   ]
  },
  {
   "cell_type": "code",
   "execution_count": null,
   "id": "aa240d0c-cc2c-4bb9-835f-413559c26316",
   "metadata": {},
   "outputs": [],
   "source": [
    "# Using the dot notation to call the 'Country' column\n",
    "other_pop_sheet.Country"
   ]
  },
  {
   "cell_type": "code",
   "execution_count": null,
   "id": "deaa58e6-70a9-4a78-ae60-e87a0bcf6fc3",
   "metadata": {},
   "outputs": [],
   "source": [
    "# Using the bracket notation to call the 'Country' column\n",
    "other_pop_sheet[\"Country\"]"
   ]
  },
  {
   "cell_type": "markdown",
   "id": "436e3d6f-01da-4035-9ef9-aa3d0f6bfbd5",
   "metadata": {},
   "source": [
    "### Using the `.iloc[]` and `.loc[]` methods to call calumns\n",
    "\n",
    "You can use `.loc[]` or `.iloc[]` to select columns by label or index, respectively.\n",
    "\n",
    "- If you use the `.loc[]` method, you'll have to reference the column name directly.\n",
    "- If you use the `.iloc[]` method, you can call a column based off of its column index number\n",
    "\n",
    "*If we continue using the `'other_pop_sheet'` dataframe we can see that the 'Country' column is in the second index of columns; we'll be using that column for the following examples.*"
   ]
  },
  {
   "cell_type": "code",
   "execution_count": null,
   "id": "25e86896-4914-4d05-a25c-89190abcc3b7",
   "metadata": {},
   "outputs": [],
   "source": [
    "import pandas as pd\n",
    "\n",
    "df = pd.DataFrame({'A': [1, 2, 3], 'B': [4, 5, 6]})\n",
    "print(df.loc[:, 'A'])  # Selecting column 'A' using .loc[]\n",
    "print(df.iloc[:, 0])   # Selecting the first column using .iloc[]\n"
   ]
  },
  {
   "cell_type": "code",
   "execution_count": null,
   "id": "68ecb9fe-5da0-474a-8c38-1c58e6a4c39a",
   "metadata": {},
   "outputs": [],
   "source": []
  },
  {
   "cell_type": "code",
   "execution_count": null,
   "id": "338adad8-de41-4f34-a759-4cdd3e78b622",
   "metadata": {},
   "outputs": [],
   "source": []
  },
  {
   "cell_type": "code",
   "execution_count": null,
   "id": "4f6006dd-9f57-4b59-ac18-0a7b5709a6dc",
   "metadata": {},
   "outputs": [],
   "source": []
  },
  {
   "cell_type": "code",
   "execution_count": null,
   "id": "91977f7b-c9e1-4fd5-8a31-9cb8219ae4fa",
   "metadata": {},
   "outputs": [],
   "source": []
  },
  {
   "cell_type": "code",
   "execution_count": null,
   "id": "41caffc3-8e47-4af0-8d4c-b81ea919a801",
   "metadata": {},
   "outputs": [],
   "source": []
  },
  {
   "cell_type": "code",
   "execution_count": null,
   "id": "048a637d-e113-4482-a71d-6c021b62e7ad",
   "metadata": {},
   "outputs": [],
   "source": []
  },
  {
   "cell_type": "markdown",
   "id": "ac08bfc9-26a1-41ec-b0f6-adbe5661639c",
   "metadata": {},
   "source": [
    "# - NAME OF NEXT VIDEO IN THE PLAYLIST -"
   ]
  },
  {
   "cell_type": "code",
   "execution_count": null,
   "id": "0da540c1-9b98-4e72-bb3b-9bdbc6a1758b",
   "metadata": {},
   "outputs": [],
   "source": []
  },
  {
   "cell_type": "code",
   "execution_count": null,
   "id": "5f6f9989-dca5-4730-b318-ebc1ae6b81ea",
   "metadata": {},
   "outputs": [],
   "source": []
  }
 ],
 "metadata": {
  "kernelspec": {
   "display_name": "Python 3 (ipykernel)",
   "language": "python",
   "name": "python3"
  },
  "language_info": {
   "codemirror_mode": {
    "name": "ipython",
    "version": 3
   },
   "file_extension": ".py",
   "mimetype": "text/x-python",
   "name": "python",
   "nbconvert_exporter": "python",
   "pygments_lexer": "ipython3",
   "version": "3.10.9"
  }
 },
 "nbformat": 4,
 "nbformat_minor": 5
}
